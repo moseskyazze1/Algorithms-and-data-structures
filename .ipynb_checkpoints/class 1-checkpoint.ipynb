{
 "cells": [
  {
   "cell_type": "code",
   "execution_count": 1,
   "id": "5c9666d9-06f3-4ab1-946c-7403b5faa87e",
   "metadata": {},
   "outputs": [
    {
     "name": "stdout",
     "output_type": "stream",
     "text": [
      "h\n",
      "e\n",
      "l\n",
      "l\n",
      "o\n",
      ",\n",
      " \n",
      "w\n",
      "o\n",
      "r\n",
      "l\n",
      "d\n"
     ]
    }
   ],
   "source": [
    "for char in \"hello, world\":\n",
    "    print(char)\n",
    "\n"
   ]
  },
  {
   "cell_type": "markdown",
   "id": "75d3f11b-6b74-4206-86dd-da6014bc80e5",
   "metadata": {},
   "source": [
    "# Problem 1\n",
    "\n",
    "## Anagram Check\n",
    "\n",
    "Given two strings as parameters,define a function (anagram_check) that returns True if these are anagrams of eachother, False otherwise.\n",
    "\n",
    "## Criteria\n",
    "Two strings are anagrams of eachother if *all* the criteria below are met:\n",
    "1. They must be of equal length (in number of letters).\n",
    "2. They must use the same letters the same amout of times.\n",
    "\n",
    "## Examples\n",
    "```\n",
    "heart and earth\n",
    "cars and scar\n",
    "star and rats\n",
    "```"
   ]
  },
  {
   "cell_type": "code",
   "execution_count": 2,
   "id": "d90990a6-0ec9-4e3f-a1ca-969c66ed2acb",
   "metadata": {},
   "outputs": [],
   "source": [
    "# In the popular Harry Potter saga the villain's name \"Voldemort\" is chosen because it is an anagram of his original human \n",
    "#name. This is basexd on phrases: \"I am Lord Voldemort\" and \"Tom Marvolo Riddle\""
   ]
  },
  {
   "cell_type": "code",
   "execution_count": 3,
   "id": "94338106-3dd3-45ae-a0c9-331dabed504b",
   "metadata": {},
   "outputs": [],
   "source": [
    "# A poor solution \n",
    "def anagram_check(string1, string2):\n",
    "    return sorted(string1) == sorted(string2)"
   ]
  },
  {
   "cell_type": "code",
   "execution_count": 4,
   "id": "15675ddf-5417-4be5-a6df-016b0dd6d42f",
   "metadata": {},
   "outputs": [
    {
     "data": {
      "text/plain": [
       "False"
      ]
     },
     "execution_count": 4,
     "metadata": {},
     "output_type": "execute_result"
    }
   ],
   "source": [
    "anagram_check(\"I am Lord Voldemort\", \"Tom Marvolo Riddle\")"
   ]
  },
  {
   "cell_type": "code",
   "execution_count": 9,
   "id": "d76d3675-913e-4000-9740-61ade864b7ee",
   "metadata": {},
   "outputs": [],
   "source": [
    "#define my function  \"anagram_check\" which recieves string1 of type string and string2 of type string:\n",
    "#    string1 = string1 without spaces\n",
    "#    string2 = string2 without spaces\n",
    "#    string1 = string1 in lower case\n",
    "#    srting2 = string2 in lower case\n",
    "#    if the length of string1 and the length of string2 are not equal:\n",
    "#        return false\n",
    "#    dict_a = new Dictionary\n",
    "#    dict_b = new Dictionary\n",
    "#    for number in the range between 0 and the length of string1:\n",
    "#        if the character at position \"number\"  in string1 is in dict_a:\n",
    "#            add 1 to the value associated with the character\n",
    "#        otherwise:\n",
    "#            create a new key in dict_a for the for the character with its avlue set to 1\n",
    "#       if the character at position \"number\"  in string2 is in dict_b:\n",
    "#            add 1 to the value associated with the character\n",
    "#        otherwise:\n",
    "#            create a new key in dict_b for the for the character with its avlue set to 1\n",
    "#     if dict_a is equal to dict_b:\n",
    "#        return True\n",
    "#     otherwise:\n",
    "#        return False\n"
   ]
  },
  {
   "cell_type": "code",
   "execution_count": 10,
   "id": "f25541f0-5d75-46d2-bcb0-36584a331dac",
   "metadata": {},
   "outputs": [],
   "source": [
    "def anagram_check(string1: str, string2: str) -> bool:\n",
    "    string1 = string1.replace(\" \", \"\").lower()\n",
    "    string2 = string2.replace(\" \", \"\").lower()\n",
    "    \n",
    "    if len(string1) != len(string2):\n",
    "        return False\n",
    "   \n",
    "    dict_a = {}\n",
    "    dict_b = {}\n",
    "   \n",
    "    for i in range(len(string1)):\n",
    "        char1 = string1[i]\n",
    "        char2 = string2[i]\n",
    "        \n",
    "        if char1 in dict_a:\n",
    "            dict_a[char1] += 1\n",
    "        else:\n",
    "            dict_a[char1] = 1\n",
    "        \n",
    "        if char2 in dict_b:\n",
    "            dict_b[char2] += 1\n",
    "        else:\n",
    "            dict_b[char2] = 1\n",
    "    \n",
    "    return dict_a == dict_b\n"
   ]
  },
  {
   "cell_type": "code",
   "execution_count": null,
   "id": "9aedcc3d-87b2-434c-80d7-02ada5e089af",
   "metadata": {},
   "outputs": [],
   "source": []
  }
 ],
 "metadata": {
  "kernelspec": {
   "display_name": "Python 3 (ipykernel)",
   "language": "python",
   "name": "python3"
  },
  "language_info": {
   "codemirror_mode": {
    "name": "ipython",
    "version": 3
   },
   "file_extension": ".py",
   "mimetype": "text/x-python",
   "name": "python",
   "nbconvert_exporter": "python",
   "pygments_lexer": "ipython3",
   "version": "3.10.12"
  }
 },
 "nbformat": 4,
 "nbformat_minor": 5
}
