{
 "cells": [
  {
   "cell_type": "code",
   "execution_count": 2,
   "id": "9db116db-3d31-446f-bd0e-77f469143063",
   "metadata": {},
   "outputs": [
    {
     "name": "stdout",
     "output_type": "stream",
     "text": [
      "h\n",
      "e\n",
      "l\n",
      "l\n",
      "o\n",
      " \n",
      "w\n",
      "o\n",
      "r\n",
      "l\n",
      "d\n"
     ]
    }
   ],
   "source": [
    "for char in \"hello world\":\n",
    "    print(char)"
   ]
  },
  {
   "cell_type": "markdown",
   "id": "b0660c26-1e1d-4f13-986e-80a957824f09",
   "metadata": {},
   "source": [
    "Problem 1\n",
    "\n",
    "## Anagram Check\n",
    "\n",
    "Given two strings as parameters, define a function (anagram_check) that returns True if these are aanagrams of each other, False otherwise.\n",
    "\n",
    "### Criterea\n",
    "Two strings are anagrams of each other if *all* the criterea below are met:\n",
    "1. They must be of equal length (in number of letters).\n",
    "2. They must use the same letters the same amount of times.\n",
    "\n",
    "## Examples\n",
    "\n",
    "heart and earth\n",
    "cars and scar\n",
    "star and rats"
   ]
  },
  {
   "cell_type": "code",
   "execution_count": null,
   "id": "b3823363-5a4c-4b74-b9b1-ce75eeb050fe",
   "metadata": {},
   "outputs": [],
   "source": [
    "# In the popular Harry Potterb saga the villain name \"Voldemort\" is an anagram of his original human\n",
    "# name. this based on the phrases: \"I am Lord Voldemort\" and \"Tom Marvolo Riddle\"\n",
    "\n",
    "anagram_check(\"Iam Lord Voldemort\", \"Tom Marvolo Riddle\")"
   ]
  },
  {
   "cell_type": "code",
   "execution_count": null,
   "id": "6cf714ed-e362-471a-86f2-73eb2a4df51f",
   "metadata": {},
   "outputs": [],
   "source": [
    "#define my function  \"anagram_check\" which recieves string1 of type string and string2 of type string:\n",
    "#    string1 = string1 without spaces\n",
    "#    string2 = string2 without spaces\n",
    "#    string1 = string1 in lower case\n",
    "#    srting2 = string2 in lower case\n",
    "#    if the length of string1 and the length of string2 are not equal:\n",
    "#        return false\n",
    "#    dict_a = new Dictionary\n",
    "#    dict_b = new Dictionary\n",
    "#    for number in the range between 0 and the length of string1:\n",
    "#        if the character at position \"number\"  in string1 is in dict_a:\n",
    "#            add 1 to the value associated with the character\n",
    "#        otherwise:\n",
    "#            create a new key in dict_a for the for the character with its avlue set to 1\n",
    "#       if the character at position \"number\"  in string2 is in dict_b:\n",
    "#            add 1 to the value associated with the character\n",
    "#        otherwise:\n",
    "#            create a new key in dict_b for the for the character with its avlue set to 1\n",
    "#     if dict_a is equal to dict_b:\n",
    "#        return True\n",
    "#     otherwise:\n",
    "#        return False\n"
   ]
  }
 ],
 "metadata": {
  "kernelspec": {
   "display_name": "Python 3 (ipykernel)",
   "language": "python",
   "name": "python3"
  },
  "language_info": {
   "codemirror_mode": {
    "name": "ipython",
    "version": 3
   },
   "file_extension": ".py",
   "mimetype": "text/x-python",
   "name": "python",
   "nbconvert_exporter": "python",
   "pygments_lexer": "ipython3",
   "version": "3.10.12"
  }
 },
 "nbformat": 4,
 "nbformat_minor": 5
}
